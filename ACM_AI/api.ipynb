{
 "cells": [
  {
   "cell_type": "code",
   "execution_count": 1,
   "metadata": {},
   "outputs": [
    {
     "name": "stdout",
     "output_type": "stream",
     "text": [
      "City: Landon, Country: US\n",
      "\n",
      "Coordinates:\n",
      "Latitude: 30.438\n",
      "Longitude: -89.1028\n",
      "\n",
      "Weather Information:\n",
      "Temperature: 81.91°C\n",
      "Temperature (Min): 81.03°C\n",
      "Temperature (Max): 82.4°C\n",
      "Humidity: 73%\n",
      "Pressure: 1014 hPa\n",
      "Sea Level Pressure: 1014 hPa\n",
      "Ground Level Pressure: 1012 hPa\n",
      "Weather Description: overcast clouds\n",
      "Wind Speed: 3.44 m/s\n",
      "Cloud Coverage: 100%\n"
     ]
    }
   ],
   "source": [
    "import http.client\n",
    "import json  # Import the json module\n",
    "\n",
    "conn = http.client.HTTPSConnection(\"open-weather13.p.rapidapi.com\")\n",
    "\n",
    "headers = {\n",
    "    'x-rapidapi-key': \"6495d72771msh4a80041d3c2ddffp128584jsn92b8ff7fe328\",\n",
    "    'x-rapidapi-host': \"open-weather13.p.rapidapi.com\"\n",
    "}\n",
    "\n",
    "conn.request(\"GET\", \"/city/landon/EN\", headers=headers)\n",
    "\n",
    "res = conn.getresponse()\n",
    "data = res.read()\n",
    "\n",
    "# Parse the JSON response\n",
    "parsed_data = json.loads(data)\n",
    "\n",
    "# Extract specific information\n",
    "latitude = parsed_data['coord']['lat']\n",
    "longitude = parsed_data['coord']['lon']\n",
    "temperature = parsed_data['main']['temp']\n",
    "humidity = parsed_data['main']['humidity']\n",
    "pressure = parsed_data['main']['pressure']\n",
    "temp_min = parsed_data['main']['temp_min']\n",
    "temp_max = parsed_data['main']['temp_max']\n",
    "sea_level = parsed_data['main'].get('sea_level', 'N/A')  # Use .get() to handle missing data\n",
    "grnd_level = parsed_data['main'].get('grnd_level', 'N/A')  # Use .get() to handle missing data\n",
    "weather_description = parsed_data['weather'][0]['description']\n",
    "wind_speed = parsed_data['wind']['speed']\n",
    "cloud_coverage = parsed_data['clouds']['all']\n",
    "country = parsed_data['sys']['country']\n",
    "city_name = parsed_data['name']\n",
    "\n",
    "# Print the information manually\n",
    "print(f\"City: {city_name}, Country: {country}\")\n",
    "print(\"\\nCoordinates:\")\n",
    "print(f\"Latitude: {latitude}\")\n",
    "print(f\"Longitude: {longitude}\")\n",
    "print(\"\\nWeather Information:\")\n",
    "print(f\"Temperature: {temperature}°C\")\n",
    "print(f\"Temperature (Min): {temp_min}°C\")\n",
    "print(f\"Temperature (Max): {temp_max}°C\")\n",
    "print(f\"Humidity: {humidity}%\")\n",
    "print(f\"Pressure: {pressure} hPa\")\n",
    "print(f\"Sea Level Pressure: {sea_level} hPa\")\n",
    "print(f\"Ground Level Pressure: {grnd_level} hPa\")\n",
    "print(f\"Weather Description: {weather_description}\")\n",
    "print(f\"Wind Speed: {wind_speed} m/s\")\n",
    "print(f\"Cloud Coverage: {cloud_coverage}%\")"
   ]
  },
  {
   "cell_type": "code",
   "execution_count": null,
   "metadata": {},
   "outputs": [],
   "source": []
  }
 ],
 "metadata": {
  "kernelspec": {
   "display_name": "Python 3",
   "language": "python",
   "name": "python3"
  },
  "language_info": {
   "codemirror_mode": {
    "name": "ipython",
    "version": 3
   },
   "file_extension": ".py",
   "mimetype": "text/x-python",
   "name": "python",
   "nbconvert_exporter": "python",
   "pygments_lexer": "ipython3",
   "version": "3.12.4"
  }
 },
 "nbformat": 4,
 "nbformat_minor": 2
}
