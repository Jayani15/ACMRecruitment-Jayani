{
 "cells": [
  {
   "cell_type": "code",
   "execution_count": 5,
   "metadata": {},
   "outputs": [
    {
     "name": "stdout",
     "output_type": "stream",
     "text": [
      "Predicted value for a=5.0, b=15.0: 71.97708793192942\n"
     ]
    }
   ],
   "source": [
    "import numpy as np\n",
    "from sklearn.linear_model import LinearRegression\n",
    "\n",
    "data = [[0.0, 0.0, 0.0], [0.5, 1.5, 23.4], [1.2, 2.3, 45.6], [1.8, 3.7, 12.1],\n",
    "        [2.4, 4.2, 78.9], [2.9, 5.1, 34.5], [3.5, 6.4, 56.7], [4.1, 7.8, 67.8],\n",
    "        [4.7, 8.5, 89.0], [5.2, 9.1, 12.3], [5.8, 1.0, 45.6], [6.3, 2.4, 78.9],\n",
    "        [6.9, 3.1, 34.5], [7.4, 4.6, 56.7], [8.0, 5.2, 67.8], [8.6, 6.8, 89.0],\n",
    "        [9.1, 7.3, 12.3], [9.7, 8.9, 45.6], [10.0, 9.0, 78.9], [10.5, 0.5, 34.5]]\n",
    "\n",
    "data = np.array(data)\n",
    "\n",
    "X = data[:, :2]\n",
    "y = data[:, 2]\n",
    "\n",
    "model = LinearRegression()\n",
    "model.fit(X, y)\n",
    "\n",
    "a, b = 5.0, 15.0\n",
    "print(f\"Predicted value for a={a}, b={b}: {model.predict([[a,b]])[0]}\")"
   ]
  },
  {
   "cell_type": "code",
   "execution_count": null,
   "metadata": {},
   "outputs": [],
   "source": []
  }
 ],
 "metadata": {
  "kernelspec": {
   "display_name": "Python 3",
   "language": "python",
   "name": "python3"
  },
  "language_info": {
   "codemirror_mode": {
    "name": "ipython",
    "version": 3
   },
   "file_extension": ".py",
   "mimetype": "text/x-python",
   "name": "python",
   "nbconvert_exporter": "python",
   "pygments_lexer": "ipython3",
   "version": "3.12.4"
  }
 },
 "nbformat": 4,
 "nbformat_minor": 2
}
